{
 "cells": [
  {
   "cell_type": "code",
   "execution_count": 1,
   "id": "6cdd95f5",
   "metadata": {},
   "outputs": [
    {
     "name": "stdout",
     "output_type": "stream",
     "text": [
      "Collecting kafka-python\n",
      "  Downloading kafka_python-2.0.2-py2.py3-none-any.whl (246 kB)\n",
      "     -------------------------------------- 246.5/246.5 KB 1.4 MB/s eta 0:00:00\n",
      "Installing collected packages: kafka-python\n",
      "Successfully installed kafka-python-2.0.2\n",
      "Note: you may need to restart the kernel to use updated packages.\n"
     ]
    },
    {
     "name": "stderr",
     "output_type": "stream",
     "text": [
      "WARNING: You are using pip version 22.0.4; however, version 22.3.1 is available.\n",
      "You should consider upgrading via the 'C:\\Users\\mvcc1\\anaconda3\\python.exe -m pip install --upgrade pip' command.\n"
     ]
    }
   ],
   "source": [
    "pip install kafka-python"
   ]
  },
  {
   "cell_type": "code",
   "execution_count": 12,
   "id": "3e61c5fb",
   "metadata": {},
   "outputs": [
    {
     "name": "stdout",
     "output_type": "stream",
     "text": [
      "Requirement already satisfied: kafka-python in c:\\users\\mvcc1\\anaconda3\\lib\\site-packages (2.0.2)\n"
     ]
    },
    {
     "name": "stderr",
     "output_type": "stream",
     "text": [
      "WARNING: You are using pip version 22.0.4; however, version 22.3.1 is available.\n",
      "You should consider upgrading via the 'C:\\Users\\mvcc1\\anaconda3\\python.exe -m pip install --upgrade pip' command.\n"
     ]
    }
   ],
   "source": [
    "!pip install kafka-python"
   ]
  },
  {
   "cell_type": "code",
   "execution_count": 25,
   "id": "395557bf",
   "metadata": {},
   "outputs": [],
   "source": [
    "import pandas as pd\n",
    "from kafka import KafkaConsumer, KafkaProducer\n",
    "from time import sleep\n",
    "from json import dumps\n",
    "import json\n",
    "from nsepy import get_history\n",
    "from datetime import date\n",
    "import talib as tl\n",
    "from talib import EMA , ADX"
   ]
  },
  {
   "cell_type": "code",
   "execution_count": 39,
   "id": "30f1f616",
   "metadata": {
    "scrolled": true
   },
   "outputs": [],
   "source": [
    "producer = KafkaProducer(bootstrap_servers =['43.205.212.33:9092'],\n",
    "                        value_serializer = lambda x:\n",
    "                        dumps(x).encode('utf-8'))"
   ]
  },
  {
   "cell_type": "code",
   "execution_count": 94,
   "id": "a02980a8",
   "metadata": {},
   "outputs": [
    {
     "data": {
      "text/plain": [
       "<kafka.producer.future.FutureRecordMetadata at 0x2664d1f9550>"
      ]
     },
     "execution_count": 94,
     "metadata": {},
     "output_type": "execute_result"
    }
   ],
   "source": [
    "producer.send('stock_demo',value = \"{'hello' :'World'}\")"
   ]
  },
  {
   "cell_type": "code",
   "execution_count": 84,
   "id": "6bb3035e",
   "metadata": {},
   "outputs": [
    {
     "data": {
      "text/plain": [
       "<kafka.producer.future.FutureRecordMetadata at 0x26650b0c2e0>"
      ]
     },
     "execution_count": 84,
     "metadata": {},
     "output_type": "execute_result"
    }
   ],
   "source": [
    "producer.send('stock_demo',value = \"{'surname' :'Malik'}\")"
   ]
  },
  {
   "cell_type": "code",
   "execution_count": 77,
   "id": "f93f7b33",
   "metadata": {},
   "outputs": [
    {
     "data": {
      "text/plain": [
       "<kafka.producer.future.FutureRecordMetadata at 0x2664eef1d30>"
      ]
     },
     "execution_count": 77,
     "metadata": {},
     "output_type": "execute_result"
    }
   ],
   "source": [
    "producer.send('stock_demo',value = \"{'data' :'StockMarket'}\")"
   ]
  },
  {
   "cell_type": "code",
   "execution_count": 3,
   "id": "6cc4f8fe",
   "metadata": {},
   "outputs": [],
   "source": [
    "#Retrieving The Data \n",
    "\n",
    "data =  get_history(symbol=\"RELIANCE\",\n",
    "                            start=date(2007,1,1),\n",
    "                            end=date(2023,1,27))"
   ]
  },
  {
   "cell_type": "code",
   "execution_count": 4,
   "id": "3bf252f0",
   "metadata": {
    "scrolled": true
   },
   "outputs": [
    {
     "data": {
      "text/html": [
       "<div>\n",
       "<style scoped>\n",
       "    .dataframe tbody tr th:only-of-type {\n",
       "        vertical-align: middle;\n",
       "    }\n",
       "\n",
       "    .dataframe tbody tr th {\n",
       "        vertical-align: top;\n",
       "    }\n",
       "\n",
       "    .dataframe thead th {\n",
       "        text-align: right;\n",
       "    }\n",
       "</style>\n",
       "<table border=\"1\" class=\"dataframe\">\n",
       "  <thead>\n",
       "    <tr style=\"text-align: right;\">\n",
       "      <th></th>\n",
       "      <th>Symbol</th>\n",
       "      <th>Series</th>\n",
       "      <th>Prev Close</th>\n",
       "      <th>Open</th>\n",
       "      <th>High</th>\n",
       "      <th>Low</th>\n",
       "      <th>Last</th>\n",
       "      <th>Close</th>\n",
       "      <th>VWAP</th>\n",
       "      <th>Volume</th>\n",
       "      <th>Turnover</th>\n",
       "      <th>Trades</th>\n",
       "      <th>Deliverable Volume</th>\n",
       "      <th>%Deliverble</th>\n",
       "    </tr>\n",
       "    <tr>\n",
       "      <th>Date</th>\n",
       "      <th></th>\n",
       "      <th></th>\n",
       "      <th></th>\n",
       "      <th></th>\n",
       "      <th></th>\n",
       "      <th></th>\n",
       "      <th></th>\n",
       "      <th></th>\n",
       "      <th></th>\n",
       "      <th></th>\n",
       "      <th></th>\n",
       "      <th></th>\n",
       "      <th></th>\n",
       "      <th></th>\n",
       "    </tr>\n",
       "  </thead>\n",
       "  <tbody>\n",
       "    <tr>\n",
       "      <th>2007-01-02</th>\n",
       "      <td>RELIANCE</td>\n",
       "      <td>EQ</td>\n",
       "      <td>1270.15</td>\n",
       "      <td>1275.0</td>\n",
       "      <td>1285.8</td>\n",
       "      <td>1270.30</td>\n",
       "      <td>1283.75</td>\n",
       "      <td>1280.90</td>\n",
       "      <td>1279.56</td>\n",
       "      <td>1149902</td>\n",
       "      <td>1.471373e+14</td>\n",
       "      <td>NaN</td>\n",
       "      <td>659158</td>\n",
       "      <td>0.5732</td>\n",
       "    </tr>\n",
       "    <tr>\n",
       "      <th>2007-01-03</th>\n",
       "      <td>RELIANCE</td>\n",
       "      <td>EQ</td>\n",
       "      <td>1280.90</td>\n",
       "      <td>1285.0</td>\n",
       "      <td>1290.9</td>\n",
       "      <td>1275.35</td>\n",
       "      <td>1286.00</td>\n",
       "      <td>1284.55</td>\n",
       "      <td>1284.00</td>\n",
       "      <td>1489730</td>\n",
       "      <td>1.912809e+14</td>\n",
       "      <td>NaN</td>\n",
       "      <td>713956</td>\n",
       "      <td>0.4793</td>\n",
       "    </tr>\n",
       "    <tr>\n",
       "      <th>2007-01-04</th>\n",
       "      <td>RELIANCE</td>\n",
       "      <td>EQ</td>\n",
       "      <td>1284.55</td>\n",
       "      <td>1290.0</td>\n",
       "      <td>1300.0</td>\n",
       "      <td>1277.00</td>\n",
       "      <td>1280.00</td>\n",
       "      <td>1280.50</td>\n",
       "      <td>1284.95</td>\n",
       "      <td>3022423</td>\n",
       "      <td>3.883671e+14</td>\n",
       "      <td>NaN</td>\n",
       "      <td>1442019</td>\n",
       "      <td>0.4771</td>\n",
       "    </tr>\n",
       "    <tr>\n",
       "      <th>2007-01-05</th>\n",
       "      <td>RELIANCE</td>\n",
       "      <td>EQ</td>\n",
       "      <td>1280.50</td>\n",
       "      <td>1275.0</td>\n",
       "      <td>1312.0</td>\n",
       "      <td>1275.00</td>\n",
       "      <td>1289.00</td>\n",
       "      <td>1288.15</td>\n",
       "      <td>1296.98</td>\n",
       "      <td>3047126</td>\n",
       "      <td>3.952073e+14</td>\n",
       "      <td>NaN</td>\n",
       "      <td>1184396</td>\n",
       "      <td>0.3887</td>\n",
       "    </tr>\n",
       "    <tr>\n",
       "      <th>2007-01-08</th>\n",
       "      <td>RELIANCE</td>\n",
       "      <td>EQ</td>\n",
       "      <td>1288.15</td>\n",
       "      <td>1294.0</td>\n",
       "      <td>1294.0</td>\n",
       "      <td>1266.60</td>\n",
       "      <td>1275.00</td>\n",
       "      <td>1276.85</td>\n",
       "      <td>1276.26</td>\n",
       "      <td>2191355</td>\n",
       "      <td>2.796739e+14</td>\n",
       "      <td>NaN</td>\n",
       "      <td>1091486</td>\n",
       "      <td>0.4981</td>\n",
       "    </tr>\n",
       "  </tbody>\n",
       "</table>\n",
       "</div>"
      ],
      "text/plain": [
       "              Symbol Series  Prev Close    Open    High      Low     Last  \\\n",
       "Date                                                                        \n",
       "2007-01-02  RELIANCE     EQ     1270.15  1275.0  1285.8  1270.30  1283.75   \n",
       "2007-01-03  RELIANCE     EQ     1280.90  1285.0  1290.9  1275.35  1286.00   \n",
       "2007-01-04  RELIANCE     EQ     1284.55  1290.0  1300.0  1277.00  1280.00   \n",
       "2007-01-05  RELIANCE     EQ     1280.50  1275.0  1312.0  1275.00  1289.00   \n",
       "2007-01-08  RELIANCE     EQ     1288.15  1294.0  1294.0  1266.60  1275.00   \n",
       "\n",
       "              Close     VWAP   Volume      Turnover  Trades  \\\n",
       "Date                                                          \n",
       "2007-01-02  1280.90  1279.56  1149902  1.471373e+14     NaN   \n",
       "2007-01-03  1284.55  1284.00  1489730  1.912809e+14     NaN   \n",
       "2007-01-04  1280.50  1284.95  3022423  3.883671e+14     NaN   \n",
       "2007-01-05  1288.15  1296.98  3047126  3.952073e+14     NaN   \n",
       "2007-01-08  1276.85  1276.26  2191355  2.796739e+14     NaN   \n",
       "\n",
       "            Deliverable Volume  %Deliverble  \n",
       "Date                                         \n",
       "2007-01-02              659158       0.5732  \n",
       "2007-01-03              713956       0.4793  \n",
       "2007-01-04             1442019       0.4771  \n",
       "2007-01-05             1184396       0.3887  \n",
       "2007-01-08             1091486       0.4981  "
      ]
     },
     "execution_count": 4,
     "metadata": {},
     "output_type": "execute_result"
    }
   ],
   "source": [
    "data.head()"
   ]
  },
  {
   "cell_type": "code",
   "execution_count": 5,
   "id": "8e22af4e",
   "metadata": {},
   "outputs": [],
   "source": [
    "data = data.reset_index()"
   ]
  },
  {
   "cell_type": "code",
   "execution_count": 6,
   "id": "7cb03fdc",
   "metadata": {},
   "outputs": [],
   "source": [
    "#ADDING THE 3 INDICATORS EMA, RSI  AND ADX USING THE TIME PERIOD OF 30 DAYS\n",
    "\n",
    "data['EMA_LONG'] = tl.EMA(data['Close'], timeperiod = 30)\n",
    "data['ADX'] = tl.ADX(data['High'],data['Low'], data['Close'], timeperiod=30)\n",
    "data['RSI'] = tl.RSI(data['Close'],30)"
   ]
  },
  {
   "cell_type": "code",
   "execution_count": 7,
   "id": "ca6593dc",
   "metadata": {},
   "outputs": [
    {
     "data": {
      "text/html": [
       "<div>\n",
       "<style scoped>\n",
       "    .dataframe tbody tr th:only-of-type {\n",
       "        vertical-align: middle;\n",
       "    }\n",
       "\n",
       "    .dataframe tbody tr th {\n",
       "        vertical-align: top;\n",
       "    }\n",
       "\n",
       "    .dataframe thead th {\n",
       "        text-align: right;\n",
       "    }\n",
       "</style>\n",
       "<table border=\"1\" class=\"dataframe\">\n",
       "  <thead>\n",
       "    <tr style=\"text-align: right;\">\n",
       "      <th></th>\n",
       "      <th>Date</th>\n",
       "      <th>Symbol</th>\n",
       "      <th>Series</th>\n",
       "      <th>Prev Close</th>\n",
       "      <th>Open</th>\n",
       "      <th>High</th>\n",
       "      <th>Low</th>\n",
       "      <th>Last</th>\n",
       "      <th>Close</th>\n",
       "      <th>VWAP</th>\n",
       "      <th>Volume</th>\n",
       "      <th>Turnover</th>\n",
       "      <th>Trades</th>\n",
       "      <th>Deliverable Volume</th>\n",
       "      <th>%Deliverble</th>\n",
       "      <th>EMA_LONG</th>\n",
       "      <th>ADX</th>\n",
       "      <th>RSI</th>\n",
       "    </tr>\n",
       "  </thead>\n",
       "  <tbody>\n",
       "    <tr>\n",
       "      <th>40</th>\n",
       "      <td>2007-03-02</td>\n",
       "      <td>RELIANCE</td>\n",
       "      <td>EQ</td>\n",
       "      <td>1367.75</td>\n",
       "      <td>1371.0</td>\n",
       "      <td>1371.0</td>\n",
       "      <td>1308.0</td>\n",
       "      <td>1317.0</td>\n",
       "      <td>1316.2</td>\n",
       "      <td>1342.13</td>\n",
       "      <td>4747034</td>\n",
       "      <td>6.371127e+14</td>\n",
       "      <td>NaN</td>\n",
       "      <td>2363461</td>\n",
       "      <td>0.4979</td>\n",
       "      <td>1368.667427</td>\n",
       "      <td>NaN</td>\n",
       "      <td>50.160624</td>\n",
       "    </tr>\n",
       "  </tbody>\n",
       "</table>\n",
       "</div>"
      ],
      "text/plain": [
       "          Date    Symbol Series  Prev Close    Open    High     Low    Last  \\\n",
       "40  2007-03-02  RELIANCE     EQ     1367.75  1371.0  1371.0  1308.0  1317.0   \n",
       "\n",
       "     Close     VWAP   Volume      Turnover  Trades  Deliverable Volume  \\\n",
       "40  1316.2  1342.13  4747034  6.371127e+14     NaN             2363461   \n",
       "\n",
       "    %Deliverble     EMA_LONG  ADX        RSI  \n",
       "40       0.4979  1368.667427  NaN  50.160624  "
      ]
     },
     "execution_count": 7,
     "metadata": {},
     "output_type": "execute_result"
    }
   ],
   "source": [
    "data.sample(1)"
   ]
  },
  {
   "cell_type": "code",
   "execution_count": 15,
   "id": "a6e565a1",
   "metadata": {},
   "outputs": [
    {
     "data": {
      "text/plain": [
       "[{'Symbol': 'RELIANCE',\n",
       "  'Series': 'EQ',\n",
       "  'Prev Close': 2178.7,\n",
       "  'Open': 2168.5,\n",
       "  'High': 2231.9,\n",
       "  'Low': 2168.0,\n",
       "  'Last': 2193.0,\n",
       "  'Close': 2191.1,\n",
       "  'VWAP': 2205.66,\n",
       "  'Volume': 9002404,\n",
       "  'Turnover': 1985624455330000.0,\n",
       "  'Trades': 300037.0,\n",
       "  'Deliverable Volume': 2389286,\n",
       "  '%Deliverble': 0.26539999999999997,\n",
       "  'EMA_LONG': 2063.517743152478,\n",
       "  'ADX': 12.337620069746556,\n",
       "  'RSI': 59.198885743057595}]"
      ]
     },
     "execution_count": 15,
     "metadata": {},
     "output_type": "execute_result"
    }
   ],
   "source": [
    "data.sample(1).to_dict(orient=\"records\")"
   ]
  },
  {
   "cell_type": "code",
   "execution_count": 12,
   "id": "bc18e8f0",
   "metadata": {},
   "outputs": [],
   "source": [
    "data.drop(['Date'], axis=1,inplace = True)\n"
   ]
  },
  {
   "cell_type": "code",
   "execution_count": null,
   "id": "8fbc900c",
   "metadata": {},
   "outputs": [],
   "source": [
    "while True:\n",
    "    dict_stock = data.sample(1).to_dict(orient = \"records\")[0]\n",
    "    producer.send('stock_demo',value = dict_stock)\n",
    "    sleep(5)"
   ]
  },
  {
   "cell_type": "code",
   "execution_count": 45,
   "id": "4e0aacc1",
   "metadata": {},
   "outputs": [],
   "source": [
    "producer.flush()"
   ]
  },
  {
   "cell_type": "code",
   "execution_count": null,
   "id": "ae60d0e5",
   "metadata": {},
   "outputs": [],
   "source": []
  }
 ],
 "metadata": {
  "kernelspec": {
   "display_name": "Python 3 (ipykernel)",
   "language": "python",
   "name": "python3"
  },
  "language_info": {
   "codemirror_mode": {
    "name": "ipython",
    "version": 3
   },
   "file_extension": ".py",
   "mimetype": "text/x-python",
   "name": "python",
   "nbconvert_exporter": "python",
   "pygments_lexer": "ipython3",
   "version": "3.8.8"
  }
 },
 "nbformat": 4,
 "nbformat_minor": 5
}
